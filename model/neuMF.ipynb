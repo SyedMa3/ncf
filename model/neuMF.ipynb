{
  "cells": [
    {
      "cell_type": "code",
      "execution_count": 1,
      "metadata": {
        "id": "cnpKBoOJOfkA"
      },
      "outputs": [],
      "source": [
        "from keras.models import Model, Sequential\n",
        "from keras.layers import Embedding, Flatten, Input, Concatenate, Dropout, Dense, BatchNormalization, Dot\n",
        "from keras.utils.vis_utils import model_to_dot\n",
        "from IPython.display import SVG\n",
        "from tensorflow import keras\n",
        "import numpy as np"
      ]
    },
    {
      "cell_type": "code",
      "execution_count": 2,
      "metadata": {
        "id": "b3maIhcrOfkG",
        "outputId": "936e3376-29d0-4b48-f17c-759039905424",
        "colab": {
          "base_uri": "https://localhost:8080/"
        }
      },
      "outputs": [
        {
          "output_type": "stream",
          "name": "stdout",
          "text": [
            "Cloning into 'ncf'...\n",
            "remote: Enumerating objects: 124, done.\u001b[K\n",
            "remote: Counting objects: 100% (124/124), done.\u001b[K\n",
            "remote: Compressing objects: 100% (101/101), done.\u001b[K\n",
            "remote: Total 124 (delta 65), reused 59 (delta 22), pack-reused 0\u001b[K\n",
            "Receiving objects: 100% (124/124), 29.63 MiB | 31.05 MiB/s, done.\n",
            "Resolving deltas: 100% (65/65), done.\n",
            "/content/ncf\n"
          ]
        }
      ],
      "source": [
        "!git clone https://github.com/SyedMa3/ncf.git\n",
        "%cd ncf"
      ]
    },
    {
      "cell_type": "code",
      "source": [
        "def get_model(num_users, num_items, latent_dim):\n",
        "\n",
        "  user_input = Input(shape=(1,), dtype = 'int32', name = 'user_input')\n",
        "  item_input = Input(shape=(1,), dtype = 'int32', name = 'item_input')\n",
        "\n",
        "  GMF_user_embedding = Embedding(num_users, latent_dim, name='gmf_user_embedding', input_length=1)\n",
        "  GMF_item_embedding = Embedding(num_items, latent_dim, name='gmf_item_embedding', input_length=1)\n",
        "\n",
        "  user_latent = Flatten()(GMF_user_embedding(user_input))\n",
        "  item_latent = Flatten()(GMF_item_embedding(item_input))\n",
        "\n",
        "  mf_pred = Dot(axes=1)([user_latent, item_latent])\n",
        "\n",
        "  mlp_user = Embedding(num_users+1, 10, name='user_embedding')(user_input)\n",
        "  mlp_item = Embedding(num_items+1, 10, name='item_embedding')(item_input)\n",
        "\n",
        "  mlp_user = Flatten()(mlp_user)\n",
        "  mlp_item = Flatten()(mlp_item)\n",
        "\n",
        "  concat = Concatenate()([mlp_item, mlp_user])\n",
        "  concat = Dropout(0.2)(concat)\n",
        "\n",
        "  x = Dense(32, activation='relu')(concat)\n",
        "  x = BatchNormalization()(x)\n",
        "  x = Dropout(0.2)(x)\n",
        "\n",
        "  x = Dense(16, activation='relu')(x)\n",
        "  x = BatchNormalization()(x)\n",
        "  x = Dropout(0.2)(x)\n",
        "\n",
        "  x = Dense(8, activation='relu')(x)\n",
        "\n",
        "  merged = Concatenate()([mf_pred, x])\n",
        "\n",
        "  prediction = Dense(1, activation='sigmoid', name='prediction')(merged)\n",
        "\n",
        "  model = Model([user_input, item_input], prediction)\n",
        "  # model.summary()\n",
        "  return model"
      ],
      "metadata": {
        "id": "D00sNZTeOnap"
      },
      "execution_count": null,
      "outputs": []
    },
    {
      "cell_type": "code",
      "source": [
        "import imp\n",
        "dataset = imp.new_module('dataset')\n",
        "exec(open(\"./dataset.py\").read(), dataset.__dict__)"
      ],
      "metadata": {
        "id": "fK8GXk0LRkeg",
        "outputId": "0faa082a-4498-42c3-ebc9-19d6294bd64e",
        "colab": {
          "base_uri": "https://localhost:8080/"
        }
      },
      "execution_count": 3,
      "outputs": [
        {
          "output_type": "stream",
          "name": "stdout",
          "text": [
            "       userId  movieId  rating   timestamp  sort_latest\n",
            "0           1     2492       1   965719662          1.0\n",
            "232         2    80489       1  1445715340          1.0\n",
            "261         3     2424       1  1306464293          1.0\n",
            "300         4     4246       1  1007574542          1.0\n",
            "516         5      247       1   847435337          1.0\n",
            "...       ...      ...     ...         ...          ...\n",
            "97364     606     2355       1  1368460577          1.0\n",
            "98479     607     4015       1   997847387          1.0\n",
            "98666     608    52245       1  1189563917          1.0\n",
            "99497     609      650       1   847221080          1.0\n",
            "99534     610     3917       1  1495959411          1.0\n",
            "\n",
            "[610 rows x 5 columns]\n"
          ]
        }
      ]
    },
    {
      "cell_type": "code",
      "source": [
        "a = np.array(dataset.users).reshape(-1,1)\n",
        "b = np.array(dataset.items).reshape(-1,1)\n",
        "c = np.array(dataset.labels).reshape(-1,1)"
      ],
      "metadata": {
        "id": "Yw_D75kgRpWI"
      },
      "execution_count": null,
      "outputs": []
    },
    {
      "cell_type": "code",
      "source": [
        "m = get_model(dataset.num_users,dataset.num_movies,10)\n",
        "m.compile(optimizer=keras.optimizers.Adam(learning_rate=0.01), loss='binary_crossentropy')\n",
        "m.summary()\n",
        "m.fit([a,b], c, batch_size=256, epochs=10)"
      ],
      "metadata": {
        "id": "OspShFX4Q_x-",
        "outputId": "1d201565-9351-4c2d-da74-20dc683f91ad",
        "colab": {
          "base_uri": "https://localhost:8080/"
        }
      },
      "execution_count": null,
      "outputs": [
        {
          "output_type": "stream",
          "name": "stdout",
          "text": [
            "Model: \"model\"\n",
            "__________________________________________________________________________________________________\n",
            " Layer (type)                   Output Shape         Param #     Connected to                     \n",
            "==================================================================================================\n",
            " user_input (InputLayer)        [(None, 1)]          0           []                               \n",
            "                                                                                                  \n",
            " item_input (InputLayer)        [(None, 1)]          0           []                               \n",
            "                                                                                                  \n",
            " item_embedding (Embedding)     (None, 1, 10)        1936100     ['item_input[0][0]']             \n",
            "                                                                                                  \n",
            " user_embedding (Embedding)     (None, 1, 10)        6110        ['user_input[0][0]']             \n",
            "                                                                                                  \n",
            " flatten_3 (Flatten)            (None, 10)           0           ['item_embedding[0][0]']         \n",
            "                                                                                                  \n",
            " flatten_2 (Flatten)            (None, 10)           0           ['user_embedding[0][0]']         \n",
            "                                                                                                  \n",
            " concatenate (Concatenate)      (None, 20)           0           ['flatten_3[0][0]',              \n",
            "                                                                  'flatten_2[0][0]']              \n",
            "                                                                                                  \n",
            " dropout (Dropout)              (None, 20)           0           ['concatenate[0][0]']            \n",
            "                                                                                                  \n",
            " dense (Dense)                  (None, 32)           672         ['dropout[0][0]']                \n",
            "                                                                                                  \n",
            " batch_normalization (BatchNorm  (None, 32)          128         ['dense[0][0]']                  \n",
            " alization)                                                                                       \n",
            "                                                                                                  \n",
            " dropout_1 (Dropout)            (None, 32)           0           ['batch_normalization[0][0]']    \n",
            "                                                                                                  \n",
            " dense_1 (Dense)                (None, 16)           528         ['dropout_1[0][0]']              \n",
            "                                                                                                  \n",
            " gmf_user_embedding (Embedding)  (None, 1, 10)       6100        ['user_input[0][0]']             \n",
            "                                                                                                  \n",
            " gmf_item_embedding (Embedding)  (None, 1, 10)       1936090     ['item_input[0][0]']             \n",
            "                                                                                                  \n",
            " batch_normalization_1 (BatchNo  (None, 16)          64          ['dense_1[0][0]']                \n",
            " rmalization)                                                                                     \n",
            "                                                                                                  \n",
            " flatten (Flatten)              (None, 10)           0           ['gmf_user_embedding[0][0]']     \n",
            "                                                                                                  \n",
            " flatten_1 (Flatten)            (None, 10)           0           ['gmf_item_embedding[0][0]']     \n",
            "                                                                                                  \n",
            " dropout_2 (Dropout)            (None, 16)           0           ['batch_normalization_1[0][0]']  \n",
            "                                                                                                  \n",
            " dot (Dot)                      (None, 1)            0           ['flatten[0][0]',                \n",
            "                                                                  'flatten_1[0][0]']              \n",
            "                                                                                                  \n",
            " dense_2 (Dense)                (None, 8)            136         ['dropout_2[0][0]']              \n",
            "                                                                                                  \n",
            " concatenate_1 (Concatenate)    (None, 9)            0           ['dot[0][0]',                    \n",
            "                                                                  'dense_2[0][0]']                \n",
            "                                                                                                  \n",
            " prediction (Dense)             (None, 1)            10          ['concatenate_1[0][0]']          \n",
            "                                                                                                  \n",
            "==================================================================================================\n",
            "Total params: 3,885,938\n",
            "Trainable params: 3,885,842\n",
            "Non-trainable params: 96\n",
            "__________________________________________________________________________________________________\n",
            "Epoch 1/10\n",
            "1958/1958 [==============================] - 18s 7ms/step - loss: 0.3460\n",
            "Epoch 2/10\n",
            "1958/1958 [==============================] - 14s 7ms/step - loss: 0.2549\n",
            "Epoch 3/10\n",
            "1958/1958 [==============================] - 14s 7ms/step - loss: 0.2106\n",
            "Epoch 4/10\n",
            "1958/1958 [==============================] - 13s 7ms/step - loss: 0.1884\n",
            "Epoch 5/10\n",
            "1958/1958 [==============================] - 13s 7ms/step - loss: 0.1747\n",
            "Epoch 6/10\n",
            "1958/1958 [==============================] - 13s 7ms/step - loss: 0.1653\n",
            "Epoch 7/10\n",
            "1958/1958 [==============================] - 13s 7ms/step - loss: 0.1581\n",
            "Epoch 8/10\n",
            "1958/1958 [==============================] - 13s 7ms/step - loss: 0.1520\n",
            "Epoch 9/10\n",
            "1958/1958 [==============================] - 14s 7ms/step - loss: 0.1476\n",
            "Epoch 10/10\n",
            "1958/1958 [==============================] - 13s 7ms/step - loss: 0.1435\n"
          ]
        },
        {
          "output_type": "execute_result",
          "data": {
            "text/plain": [
              "<keras.callbacks.History at 0x7fa0e62e6110>"
            ]
          },
          "metadata": {},
          "execution_count": 6
        }
      ]
    },
    {
      "cell_type": "code",
      "source": [
        "m.save('model.h5')"
      ],
      "metadata": {
        "id": "FUZiU8luRp5D"
      },
      "execution_count": null,
      "outputs": []
    },
    {
      "cell_type": "code",
      "source": [
        "loaded_model = keras.models.load_model('model.h5')"
      ],
      "metadata": {
        "id": "CsYZh8gAchTd"
      },
      "execution_count": 4,
      "outputs": []
    },
    {
      "cell_type": "code",
      "source": [
        "# from sklearn.metrics import accuracy_score\n",
        "# a1 = np.array([11121111]).reshape(-1,1)\n",
        "# b1 = np.array([2233]).reshape(-1,1)\n",
        "# c1 = np.array([1]).reshape(-1,1)\n",
        "# y_hat = loaded_model.fit([a1, b1], c1)\n",
        "\n",
        "# y_hat = loaded_model.predict([a1, b1])\n",
        "\n",
        "# print(y_hat)"
      ],
      "metadata": {
        "id": "JdQpD4oROYxt",
        "outputId": "7af7a43c-5002-49cd-a472-bcad5325339b",
        "colab": {
          "base_uri": "https://localhost:8080/"
        }
      },
      "execution_count": null,
      "outputs": [
        {
          "output_type": "stream",
          "name": "stdout",
          "text": [
            "1/1 [==============================] - 0s 11ms/step - loss: 1.2493\n",
            "[[0.23200744]]\n"
          ]
        }
      ]
    },
    {
      "cell_type": "code",
      "source": [
        "def predict(userID):\n",
        "\n",
        "  l = np.arange(1,dataset.num_movies)\n",
        "  base = list(set(l) - set(dataset.train[dataset.train['userId'] == userID]['movieId']))\n",
        "\n",
        "  # print(np.random.choice(base,100))\n",
        "\n",
        "  movies = np.random.choice(base, 100)\n",
        "  movies.reshape(-1,1)\n",
        "\n",
        "  u = np.full((100,1), userID, dtype=int)\n",
        "  predictions = loaded_model.predict([u,movies])\n",
        "\n",
        "  pred_movies = {}\n",
        "\n",
        "  for x in range(len(predictions)):\n",
        "    pred_movies[x] = predictions[x]\n",
        "\n",
        "  print(nlargest(10, pred_movies, key=pred_movies.get))\n",
        "  print(pred_movies)"
      ],
      "metadata": {
        "id": "C-BcpgAoTleO"
      },
      "execution_count": 13,
      "outputs": []
    },
    {
      "cell_type": "code",
      "source": [
        "from heapq import nlargest\n",
        "\n",
        "predict(1)"
      ],
      "metadata": {
        "id": "Pz0YM4aiK9yE",
        "outputId": "c5f5b164-dec8-40da-ba41-6bcc993d5d0a",
        "colab": {
          "base_uri": "https://localhost:8080/"
        }
      },
      "execution_count": 15,
      "outputs": [
        {
          "output_type": "stream",
          "name": "stdout",
          "text": [
            "[71, 70, 80, 25, 23, 62, 68, 3, 19, 52]\n",
            "{0: array([0.2450674], dtype=float32), 1: array([0.25901416], dtype=float32), 2: array([0.25667176], dtype=float32), 3: array([0.27454293], dtype=float32), 4: array([0.2619181], dtype=float32), 5: array([0.25857764], dtype=float32), 6: array([0.26396355], dtype=float32), 7: array([0.2518815], dtype=float32), 8: array([0.26505172], dtype=float32), 9: array([0.2539822], dtype=float32), 10: array([0.25713903], dtype=float32), 11: array([0.2607812], dtype=float32), 12: array([0.264434], dtype=float32), 13: array([0.26024276], dtype=float32), 14: array([0.25316495], dtype=float32), 15: array([0.25855878], dtype=float32), 16: array([0.26441807], dtype=float32), 17: array([0.00048548], dtype=float32), 18: array([0.26345587], dtype=float32), 19: array([0.27313435], dtype=float32), 20: array([0.26434103], dtype=float32), 21: array([0.25372455], dtype=float32), 22: array([0.20884185], dtype=float32), 23: array([0.27604607], dtype=float32), 24: array([0.25968936], dtype=float32), 25: array([0.2775505], dtype=float32), 26: array([0.26093933], dtype=float32), 27: array([0.254791], dtype=float32), 28: array([0.24637027], dtype=float32), 29: array([0.26430726], dtype=float32), 30: array([0.2623955], dtype=float32), 31: array([0.24581628], dtype=float32), 32: array([0.24611513], dtype=float32), 33: array([0.25002894], dtype=float32), 34: array([0.26089692], dtype=float32), 35: array([0.2539439], dtype=float32), 36: array([0.2601896], dtype=float32), 37: array([0.25514385], dtype=float32), 38: array([0.262846], dtype=float32), 39: array([0.26860225], dtype=float32), 40: array([0.26630825], dtype=float32), 41: array([0.26490578], dtype=float32), 42: array([0.25663602], dtype=float32), 43: array([0.2672256], dtype=float32), 44: array([0.25614753], dtype=float32), 45: array([0.25646263], dtype=float32), 46: array([0.26808375], dtype=float32), 47: array([0.26299205], dtype=float32), 48: array([0.26700795], dtype=float32), 49: array([0.26386032], dtype=float32), 50: array([0.26528955], dtype=float32), 51: array([0.2479527], dtype=float32), 52: array([0.2725464], dtype=float32), 53: array([0.25847697], dtype=float32), 54: array([0.2555411], dtype=float32), 55: array([0.2698581], dtype=float32), 56: array([0.26899147], dtype=float32), 57: array([0.26593477], dtype=float32), 58: array([0.26191366], dtype=float32), 59: array([0.27223313], dtype=float32), 60: array([0.2648837], dtype=float32), 61: array([0.25574043], dtype=float32), 62: array([0.2750889], dtype=float32), 63: array([0.24807246], dtype=float32), 64: array([0.25391898], dtype=float32), 65: array([0.23967107], dtype=float32), 66: array([0.25206357], dtype=float32), 67: array([0.25918993], dtype=float32), 68: array([0.27470818], dtype=float32), 69: array([0.255218], dtype=float32), 70: array([0.28213707], dtype=float32), 71: array([0.28252247], dtype=float32), 72: array([0.25525177], dtype=float32), 73: array([0.24990319], dtype=float32), 74: array([0.26014668], dtype=float32), 75: array([0.2535751], dtype=float32), 76: array([0.26184815], dtype=float32), 77: array([0.25643203], dtype=float32), 78: array([0.26320398], dtype=float32), 79: array([0.26185256], dtype=float32), 80: array([0.28166685], dtype=float32), 81: array([0.26484764], dtype=float32), 82: array([0.26409876], dtype=float32), 83: array([0.24806923], dtype=float32), 84: array([0.2506296], dtype=float32), 85: array([0.25916177], dtype=float32), 86: array([0.2489275], dtype=float32), 87: array([0.25612992], dtype=float32), 88: array([0.25002235], dtype=float32), 89: array([0.25879234], dtype=float32), 90: array([0.25653827], dtype=float32), 91: array([0.26443052], dtype=float32), 92: array([0.24975857], dtype=float32), 93: array([0.2507201], dtype=float32), 94: array([0.25683832], dtype=float32), 95: array([0.25720775], dtype=float32), 96: array([0.24202439], dtype=float32), 97: array([0.25383043], dtype=float32), 98: array([0.26888588], dtype=float32), 99: array([0.24564874], dtype=float32)}\n"
          ]
        }
      ]
    },
    {
      "cell_type": "code",
      "source": [
        ""
      ],
      "metadata": {
        "id": "mN9oEbK9LAHp"
      },
      "execution_count": null,
      "outputs": []
    }
  ],
  "metadata": {
    "kernelspec": {
      "display_name": "Python 3.10.4 64-bit",
      "language": "python",
      "name": "python3"
    },
    "language_info": {
      "codemirror_mode": {
        "name": "ipython",
        "version": 3
      },
      "file_extension": ".py",
      "mimetype": "text/x-python",
      "name": "python",
      "nbconvert_exporter": "python",
      "pygments_lexer": "ipython3",
      "version": "3.10.4"
    },
    "orig_nbformat": 4,
    "vscode": {
      "interpreter": {
        "hash": "916dbcbb3f70747c44a77c7bcd40155683ae19c65e1c03b4aa3499c5328201f1"
      }
    },
    "colab": {
      "name": "neuMF.ipynb",
      "provenance": []
    },
    "accelerator": "GPU",
    "gpuClass": "standard"
  },
  "nbformat": 4,
  "nbformat_minor": 0
}