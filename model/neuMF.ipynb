{
  "cells": [
    {
      "cell_type": "code",
      "execution_count": 1,
      "metadata": {
        "id": "cnpKBoOJOfkA"
      },
      "outputs": [],
      "source": [
        "from keras.models import Model, Sequential\n",
        "from keras.layers import Embedding, Flatten, Input, Concatenate, Dropout, Dense, BatchNormalization, Dot\n",
        "from keras.utils.vis_utils import model_to_dot\n",
        "from IPython.display import SVG\n",
        "from tensorflow import keras\n",
        "import numpy as np"
      ]
    },
    {
      "cell_type": "code",
      "execution_count": 2,
      "metadata": {
        "id": "b3maIhcrOfkG",
        "outputId": "de0739c3-14c8-42b2-d532-778bfe852695",
        "colab": {
          "base_uri": "https://localhost:8080/"
        }
      },
      "outputs": [
        {
          "output_type": "stream",
          "name": "stdout",
          "text": [
            "Cloning into 'ncf'...\n",
            "remote: Enumerating objects: 110, done.\u001b[K\n",
            "remote: Counting objects: 100% (110/110), done.\u001b[K\n",
            "remote: Compressing objects: 100% (88/88), done.\u001b[K\n",
            "remote: Total 110 (delta 56), reused 54 (delta 21), pack-reused 0\u001b[K\n",
            "Receiving objects: 100% (110/110), 14.31 MiB | 8.14 MiB/s, done.\n",
            "Resolving deltas: 100% (56/56), done.\n",
            "/content/ncf\n"
          ]
        }
      ],
      "source": [
        "!git clone https://github.com/SyedMa3/ncf.git\n",
        "%cd ncf"
      ]
    },
    {
      "cell_type": "code",
      "source": [
        "def get_model(num_users, num_items, latent_dim):\n",
        "\n",
        "  user_input = Input(shape=(1,), dtype = 'int32', name = 'user_input')\n",
        "  item_input = Input(shape=(1,), dtype = 'int32', name = 'item_input')\n",
        "\n",
        "  GMF_user_embedding = Embedding(num_users, latent_dim, name='gmf_user_embedding', input_length=1)\n",
        "  GMF_item_embedding = Embedding(num_items, latent_dim, name='gmf_item_embedding', input_length=1)\n",
        "\n",
        "  user_latent = Flatten()(GMF_user_embedding(user_input))\n",
        "  item_latent = Flatten()(GMF_item_embedding(item_input))\n",
        "\n",
        "  mf_pred = Dot(axes=1)([user_latent, item_latent])\n",
        "\n",
        "  mlp_user = Embedding(num_users+1, 10, name='user_embedding')(user_input)\n",
        "  mlp_item = Embedding(num_items+1, 10, name='item_embedding')(item_input)\n",
        "\n",
        "  mlp_user = Flatten()(mlp_user)\n",
        "  mlp_item = Flatten()(mlp_item)\n",
        "\n",
        "  concat = Concatenate()([mlp_item, mlp_user])\n",
        "  concat = Dropout(0.2)(concat)\n",
        "\n",
        "  x = Dense(32, activation='relu')(concat)\n",
        "  x = BatchNormalization()(x)\n",
        "  x = Dropout(0.2)(x)\n",
        "\n",
        "  x = Dense(16, activation='relu')(x)\n",
        "  x = BatchNormalization()(x)\n",
        "  x = Dropout(0.2)(x)\n",
        "\n",
        "  x = Dense(8, activation='relu')(x)\n",
        "\n",
        "  merged = Concatenate()([mf_pred, x])\n",
        "\n",
        "  prediction = Dense(1, activation='sigmoid', name='prediction')(merged)\n",
        "\n",
        "  model = Model([user_input, item_input], prediction)\n",
        "  # model.summary()\n",
        "  return model"
      ],
      "metadata": {
        "id": "D00sNZTeOnap"
      },
      "execution_count": 3,
      "outputs": []
    },
    {
      "cell_type": "code",
      "source": [
        "import imp\n",
        "dataset = imp.new_module('dataset')\n",
        "exec(open(\"./dataset.py\").read(), dataset.__dict__)"
      ],
      "metadata": {
        "id": "fK8GXk0LRkeg",
        "outputId": "31f041ab-3cde-430f-bb9f-1a023355e4a3",
        "colab": {
          "base_uri": "https://localhost:8080/"
        }
      },
      "execution_count": 4,
      "outputs": [
        {
          "output_type": "stream",
          "name": "stderr",
          "text": [
            "/usr/local/lib/python3.7/dist-packages/pandas/core/indexing.py:1817: SettingWithCopyWarning: \n",
            "A value is trying to be set on a copy of a slice from a DataFrame.\n",
            "Try using .loc[row_indexer,col_indexer] = value instead\n",
            "\n",
            "See the caveats in the documentation: https://pandas.pydata.org/pandas-docs/stable/user_guide/indexing.html#returning-a-view-versus-a-copy\n",
            "  self._setitem_single_column(loc, value, pi)\n"
          ]
        }
      ]
    },
    {
      "cell_type": "code",
      "source": [
        "a = np.array(dataset.users).reshape(-1,1)\n",
        "b = np.array(dataset.items).reshape(-1,1)\n",
        "c = np.array(dataset.labels).reshape(-1,1)"
      ],
      "metadata": {
        "id": "Yw_D75kgRpWI"
      },
      "execution_count": 5,
      "outputs": []
    },
    {
      "cell_type": "code",
      "source": [
        "m = get_model(dataset.num_users,dataset.num_movies,10)\n",
        "m.compile(optimizer=keras.optimizers.Adam(learning_rate=0.01), loss='binary_crossentropy')\n",
        "m.summary()\n",
        "m.fit([a,b], c, batch_size=256, epochs=10)"
      ],
      "metadata": {
        "id": "OspShFX4Q_x-",
        "outputId": "1d201565-9351-4c2d-da74-20dc683f91ad",
        "colab": {
          "base_uri": "https://localhost:8080/"
        }
      },
      "execution_count": 6,
      "outputs": [
        {
          "output_type": "stream",
          "name": "stdout",
          "text": [
            "Model: \"model\"\n",
            "__________________________________________________________________________________________________\n",
            " Layer (type)                   Output Shape         Param #     Connected to                     \n",
            "==================================================================================================\n",
            " user_input (InputLayer)        [(None, 1)]          0           []                               \n",
            "                                                                                                  \n",
            " item_input (InputLayer)        [(None, 1)]          0           []                               \n",
            "                                                                                                  \n",
            " item_embedding (Embedding)     (None, 1, 10)        1936100     ['item_input[0][0]']             \n",
            "                                                                                                  \n",
            " user_embedding (Embedding)     (None, 1, 10)        6110        ['user_input[0][0]']             \n",
            "                                                                                                  \n",
            " flatten_3 (Flatten)            (None, 10)           0           ['item_embedding[0][0]']         \n",
            "                                                                                                  \n",
            " flatten_2 (Flatten)            (None, 10)           0           ['user_embedding[0][0]']         \n",
            "                                                                                                  \n",
            " concatenate (Concatenate)      (None, 20)           0           ['flatten_3[0][0]',              \n",
            "                                                                  'flatten_2[0][0]']              \n",
            "                                                                                                  \n",
            " dropout (Dropout)              (None, 20)           0           ['concatenate[0][0]']            \n",
            "                                                                                                  \n",
            " dense (Dense)                  (None, 32)           672         ['dropout[0][0]']                \n",
            "                                                                                                  \n",
            " batch_normalization (BatchNorm  (None, 32)          128         ['dense[0][0]']                  \n",
            " alization)                                                                                       \n",
            "                                                                                                  \n",
            " dropout_1 (Dropout)            (None, 32)           0           ['batch_normalization[0][0]']    \n",
            "                                                                                                  \n",
            " dense_1 (Dense)                (None, 16)           528         ['dropout_1[0][0]']              \n",
            "                                                                                                  \n",
            " gmf_user_embedding (Embedding)  (None, 1, 10)       6100        ['user_input[0][0]']             \n",
            "                                                                                                  \n",
            " gmf_item_embedding (Embedding)  (None, 1, 10)       1936090     ['item_input[0][0]']             \n",
            "                                                                                                  \n",
            " batch_normalization_1 (BatchNo  (None, 16)          64          ['dense_1[0][0]']                \n",
            " rmalization)                                                                                     \n",
            "                                                                                                  \n",
            " flatten (Flatten)              (None, 10)           0           ['gmf_user_embedding[0][0]']     \n",
            "                                                                                                  \n",
            " flatten_1 (Flatten)            (None, 10)           0           ['gmf_item_embedding[0][0]']     \n",
            "                                                                                                  \n",
            " dropout_2 (Dropout)            (None, 16)           0           ['batch_normalization_1[0][0]']  \n",
            "                                                                                                  \n",
            " dot (Dot)                      (None, 1)            0           ['flatten[0][0]',                \n",
            "                                                                  'flatten_1[0][0]']              \n",
            "                                                                                                  \n",
            " dense_2 (Dense)                (None, 8)            136         ['dropout_2[0][0]']              \n",
            "                                                                                                  \n",
            " concatenate_1 (Concatenate)    (None, 9)            0           ['dot[0][0]',                    \n",
            "                                                                  'dense_2[0][0]']                \n",
            "                                                                                                  \n",
            " prediction (Dense)             (None, 1)            10          ['concatenate_1[0][0]']          \n",
            "                                                                                                  \n",
            "==================================================================================================\n",
            "Total params: 3,885,938\n",
            "Trainable params: 3,885,842\n",
            "Non-trainable params: 96\n",
            "__________________________________________________________________________________________________\n",
            "Epoch 1/10\n",
            "1958/1958 [==============================] - 18s 7ms/step - loss: 0.3460\n",
            "Epoch 2/10\n",
            "1958/1958 [==============================] - 14s 7ms/step - loss: 0.2549\n",
            "Epoch 3/10\n",
            "1958/1958 [==============================] - 14s 7ms/step - loss: 0.2106\n",
            "Epoch 4/10\n",
            "1958/1958 [==============================] - 13s 7ms/step - loss: 0.1884\n",
            "Epoch 5/10\n",
            "1958/1958 [==============================] - 13s 7ms/step - loss: 0.1747\n",
            "Epoch 6/10\n",
            "1958/1958 [==============================] - 13s 7ms/step - loss: 0.1653\n",
            "Epoch 7/10\n",
            "1958/1958 [==============================] - 13s 7ms/step - loss: 0.1581\n",
            "Epoch 8/10\n",
            "1958/1958 [==============================] - 13s 7ms/step - loss: 0.1520\n",
            "Epoch 9/10\n",
            "1958/1958 [==============================] - 14s 7ms/step - loss: 0.1476\n",
            "Epoch 10/10\n",
            "1958/1958 [==============================] - 13s 7ms/step - loss: 0.1435\n"
          ]
        },
        {
          "output_type": "execute_result",
          "data": {
            "text/plain": [
              "<keras.callbacks.History at 0x7fa0e62e6110>"
            ]
          },
          "metadata": {},
          "execution_count": 6
        }
      ]
    },
    {
      "cell_type": "code",
      "source": [
        "m.save('model.h5')"
      ],
      "metadata": {
        "id": "FUZiU8luRp5D"
      },
      "execution_count": 7,
      "outputs": []
    },
    {
      "cell_type": "code",
      "source": [
        ""
      ],
      "metadata": {
        "id": "CsYZh8gAchTd"
      },
      "execution_count": 7,
      "outputs": []
    }
  ],
  "metadata": {
    "kernelspec": {
      "display_name": "Python 3.10.4 64-bit",
      "language": "python",
      "name": "python3"
    },
    "language_info": {
      "codemirror_mode": {
        "name": "ipython",
        "version": 3
      },
      "file_extension": ".py",
      "mimetype": "text/x-python",
      "name": "python",
      "nbconvert_exporter": "python",
      "pygments_lexer": "ipython3",
      "version": "3.10.4"
    },
    "orig_nbformat": 4,
    "vscode": {
      "interpreter": {
        "hash": "916dbcbb3f70747c44a77c7bcd40155683ae19c65e1c03b4aa3499c5328201f1"
      }
    },
    "colab": {
      "name": "neuMF.ipynb",
      "provenance": []
    },
    "accelerator": "GPU",
    "gpuClass": "standard"
  },
  "nbformat": 4,
  "nbformat_minor": 0
}