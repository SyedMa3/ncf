{
  "cells": [
    {
      "cell_type": "code",
      "execution_count": 1,
      "metadata": {
        "id": "cnpKBoOJOfkA"
      },
      "outputs": [],
      "source": [
        "from keras.models import Model, Sequential\n",
        "from keras.layers import Embedding, Flatten, Input, Concatenate, Dropout, Dense, BatchNormalization, Dot\n",
        "from keras.utils.vis_utils import model_to_dot\n",
        "from IPython.display import SVG\n",
        "from tensorflow import keras\n",
        "import numpy as np"
      ]
    },
    {
      "cell_type": "code",
      "execution_count": 2,
      "metadata": {
        "id": "b3maIhcrOfkG",
        "outputId": "a445bb36-48e1-4cc3-b601-781626aa159d",
        "colab": {
          "base_uri": "https://localhost:8080/"
        }
      },
      "outputs": [
        {
          "metadata": {
            "tags": null
          },
          "name": "stdout",
          "output_type": "stream",
          "text": [
            "Cloning into 'ncf'...\n",
            "remote: Enumerating objects: 158, done.\u001b[K\n",
            "remote: Counting objects: 100% (158/158), done.\u001b[K\n",
            "remote: Compressing objects: 100% (128/128), done.\u001b[K\n",
            "remote: Total 158 (delta 83), reused 78 (delta 27), pack-reused 0\u001b[K\n",
            "Receiving objects: 100% (158/158), 35.32 MiB | 29.77 MiB/s, done.\n",
            "Resolving deltas: 100% (83/83), done.\n",
            "/content/ncf\n"
          ]
        }
      ],
      "source": [
        "!git clone https://github.com/SyedMa3/ncf.git\n",
        "%cd ncf"
      ]
    },
    {
      "cell_type": "code",
      "source": [
        "def get_model(num_users, num_items, latent_dim):\n",
        "\n",
        "  user_input = Input(shape=(1,), dtype = 'int32', name = 'user_input')\n",
        "  item_input = Input(shape=(1,), dtype = 'int32', name = 'item_input')\n",
        "\n",
        "  GMF_user_embedding = Embedding(num_users, latent_dim, name='gmf_user_embedding', input_length=1)\n",
        "  GMF_item_embedding = Embedding(num_items, latent_dim, name='gmf_item_embedding', input_length=1)\n",
        "\n",
        "  user_latent = Flatten()(GMF_user_embedding(user_input))\n",
        "  item_latent = Flatten()(GMF_item_embedding(item_input))\n",
        "\n",
        "  mf_pred = Dot(axes=1)([user_latent, item_latent])\n",
        "\n",
        "  mlp_user = Embedding(num_users+1, 10, name='user_embedding')(user_input)\n",
        "  mlp_item = Embedding(num_items+1, 10, name='item_embedding')(item_input)\n",
        "\n",
        "  mlp_user = Flatten()(mlp_user)\n",
        "  mlp_item = Flatten()(mlp_item)\n",
        "\n",
        "  concat = Concatenate()([mlp_item, mlp_user])\n",
        "  concat = Dropout(0.2)(concat)\n",
        "\n",
        "  x = Dense(64, activation='relu')(concat)\n",
        "  x = BatchNormalization()(x)\n",
        "  x = Dropout(0.2)(x)\n",
        "  \n",
        "\n",
        "  x = Dense(32, activation='relu')(x)\n",
        "  x = BatchNormalization()(x)\n",
        "  x = Dropout(0.2)(x)\n",
        "\n",
        "  x = Dense(16, activation='relu')(x)\n",
        "  x = BatchNormalization()(x)\n",
        "  x = Dropout(0.2)(x)\n",
        "\n",
        "  x = Dense(8, activation='relu')(x)\n",
        "\n",
        "  merged = Concatenate()([mf_pred, x])\n",
        "\n",
        "  prediction = Dense(1, activation='sigmoid', name='prediction')(merged)\n",
        "\n",
        "  model = Model([user_input, item_input], prediction)\n",
        "  # model.summary()\n",
        "  return model"
      ],
      "metadata": {
        "id": "D00sNZTeOnap"
      },
      "execution_count": 16,
      "outputs": []
    },
    {
      "cell_type": "code",
      "source": [
        "import imp\n",
        "dataset = imp.new_module('dataset')\n",
        "exec(open(\"./dataset.py\").read(), dataset.__dict__)"
      ],
      "metadata": {
        "id": "fK8GXk0LRkeg"
      },
      "execution_count": 3,
      "outputs": []
    },
    {
      "cell_type": "code",
      "source": [
        "a = np.array(dataset.users).reshape(-1,1)\n",
        "b = np.array(dataset.items).reshape(-1,1)\n",
        "c = np.array(dataset.labels).reshape(-1,1)"
      ],
      "metadata": {
        "id": "Yw_D75kgRpWI"
      },
      "execution_count": 5,
      "outputs": []
    },
    {
      "cell_type": "code",
      "source": [
        "m = get_model(dataset.num_users,dataset.num_movies,10)\n",
        "m.compile(optimizer=keras.optimizers.Adam(learning_rate=0.01), loss='binary_crossentropy')\n",
        "m.summary()\n",
        "m.fit([a,b], c, batch_size=512, epochs=10)"
      ],
      "metadata": {
        "id": "OspShFX4Q_x-",
        "outputId": "efc56cb6-ece5-484c-bb54-c5905e0b0e80",
        "colab": {
          "base_uri": "https://localhost:8080/"
        }
      },
      "execution_count": 17,
      "outputs": [
        {
          "output_type": "stream",
          "name": "stdout",
          "text": [
            "Model: \"model_5\"\n",
            "__________________________________________________________________________________________________\n",
            " Layer (type)                   Output Shape         Param #     Connected to                     \n",
            "==================================================================================================\n",
            " user_input (InputLayer)        [(None, 1)]          0           []                               \n",
            "                                                                                                  \n",
            " item_input (InputLayer)        [(None, 1)]          0           []                               \n",
            "                                                                                                  \n",
            " item_embedding (Embedding)     (None, 1, 10)        39530       ['item_input[0][0]']             \n",
            "                                                                                                  \n",
            " user_embedding (Embedding)     (None, 1, 10)        60410       ['user_input[0][0]']             \n",
            "                                                                                                  \n",
            " flatten_23 (Flatten)           (None, 10)           0           ['item_embedding[0][0]']         \n",
            "                                                                                                  \n",
            " flatten_22 (Flatten)           (None, 10)           0           ['user_embedding[0][0]']         \n",
            "                                                                                                  \n",
            " concatenate_10 (Concatenate)   (None, 20)           0           ['flatten_23[0][0]',             \n",
            "                                                                  'flatten_22[0][0]']             \n",
            "                                                                                                  \n",
            " dropout_16 (Dropout)           (None, 20)           0           ['concatenate_10[0][0]']         \n",
            "                                                                                                  \n",
            " dense_16 (Dense)               (None, 64)           1344        ['dropout_16[0][0]']             \n",
            "                                                                                                  \n",
            " batch_normalization_11 (BatchN  (None, 64)          256         ['dense_16[0][0]']               \n",
            " ormalization)                                                                                    \n",
            "                                                                                                  \n",
            " dropout_17 (Dropout)           (None, 64)           0           ['batch_normalization_11[0][0]'] \n",
            "                                                                                                  \n",
            " dense_17 (Dense)               (None, 32)           2080        ['dropout_17[0][0]']             \n",
            "                                                                                                  \n",
            " batch_normalization_12 (BatchN  (None, 32)          128         ['dense_17[0][0]']               \n",
            " ormalization)                                                                                    \n",
            "                                                                                                  \n",
            " dropout_18 (Dropout)           (None, 32)           0           ['batch_normalization_12[0][0]'] \n",
            "                                                                                                  \n",
            " dense_18 (Dense)               (None, 16)           528         ['dropout_18[0][0]']             \n",
            "                                                                                                  \n",
            " gmf_user_embedding (Embedding)  (None, 1, 10)       60400       ['user_input[0][0]']             \n",
            "                                                                                                  \n",
            " gmf_item_embedding (Embedding)  (None, 1, 10)       39520       ['item_input[0][0]']             \n",
            "                                                                                                  \n",
            " batch_normalization_13 (BatchN  (None, 16)          64          ['dense_18[0][0]']               \n",
            " ormalization)                                                                                    \n",
            "                                                                                                  \n",
            " flatten_20 (Flatten)           (None, 10)           0           ['gmf_user_embedding[0][0]']     \n",
            "                                                                                                  \n",
            " flatten_21 (Flatten)           (None, 10)           0           ['gmf_item_embedding[0][0]']     \n",
            "                                                                                                  \n",
            " dropout_19 (Dropout)           (None, 16)           0           ['batch_normalization_13[0][0]'] \n",
            "                                                                                                  \n",
            " dot_5 (Dot)                    (None, 1)            0           ['flatten_20[0][0]',             \n",
            "                                                                  'flatten_21[0][0]']             \n",
            "                                                                                                  \n",
            " dense_19 (Dense)               (None, 8)            136         ['dropout_19[0][0]']             \n",
            "                                                                                                  \n",
            " concatenate_11 (Concatenate)   (None, 9)            0           ['dot_5[0][0]',                  \n",
            "                                                                  'dense_19[0][0]']               \n",
            "                                                                                                  \n",
            " prediction (Dense)             (None, 1)            10          ['concatenate_11[0][0]']         \n",
            "                                                                                                  \n",
            "==================================================================================================\n",
            "Total params: 204,406\n",
            "Trainable params: 204,182\n",
            "Non-trainable params: 224\n",
            "__________________________________________________________________________________________________\n",
            "Epoch 1/10\n",
            "9709/9709 [==============================] - 67s 7ms/step - loss: 0.3181\n",
            "Epoch 2/10\n",
            "9709/9709 [==============================] - 64s 7ms/step - loss: 0.2761\n",
            "Epoch 3/10\n",
            "9709/9709 [==============================] - 65s 7ms/step - loss: 0.2685\n",
            "Epoch 4/10\n",
            "9709/9709 [==============================] - 64s 7ms/step - loss: 0.2647\n",
            "Epoch 5/10\n",
            "9709/9709 [==============================] - 65s 7ms/step - loss: 0.2624\n",
            "Epoch 6/10\n",
            "9709/9709 [==============================] - 64s 7ms/step - loss: 0.2606\n",
            "Epoch 7/10\n",
            "9709/9709 [==============================] - 65s 7ms/step - loss: 0.2593\n",
            "Epoch 8/10\n",
            "9709/9709 [==============================] - 65s 7ms/step - loss: 0.2581\n",
            "Epoch 9/10\n",
            "9709/9709 [==============================] - 65s 7ms/step - loss: 0.2573\n",
            "Epoch 10/10\n",
            "9709/9709 [==============================] - 65s 7ms/step - loss: 0.2565\n"
          ]
        },
        {
          "output_type": "execute_result",
          "data": {
            "text/plain": [
              "<keras.callbacks.History at 0x7f08a8041550>"
            ]
          },
          "metadata": {},
          "execution_count": 17
        }
      ]
    },
    {
      "cell_type": "code",
      "source": [
        "from sklearn.metrics import mean_squared_error\n",
        "a1 = np.array(dataset.test['userId']).reshape(-1,1)\n",
        "b1 = np.array(dataset.test['movieId']).reshape(-1,1)\n",
        "c1 = np.array(dataset.test['rating']).reshape(-1,1)\n",
        "\n",
        "y_hat = m.predict([a1, b1])\n",
        "\n",
        "print(mean_squared_error(c1, y_hat))"
      ],
      "metadata": {
        "colab": {
          "base_uri": "https://localhost:8080/"
        },
        "id": "Zdtep_iUuQ-b",
        "outputId": "4b12c69c-57d8-423a-8076-1b1fd63c3cfb"
      },
      "execution_count": 18,
      "outputs": [
        {
          "output_type": "stream",
          "name": "stdout",
          "text": [
            "0.3669889206399357\n"
          ]
        }
      ]
    },
    {
      "cell_type": "code",
      "source": [
        "m.save('model.h5')"
      ],
      "metadata": {
        "id": "FUZiU8luRp5D"
      },
      "execution_count": 19,
      "outputs": []
    },
    {
      "cell_type": "code",
      "source": [
        "loaded_model = keras.models.load_model('model.h5')"
      ],
      "metadata": {
        "id": "CsYZh8gAchTd"
      },
      "execution_count": 4,
      "outputs": []
    },
    {
      "cell_type": "code",
      "source": [
        "# from sklearn.metrics import accuracy_score\n",
        "# a1 = np.array([11121111]).reshape(-1,1)\n",
        "# b1 = np.array([2233]).reshape(-1,1)\n",
        "# c1 = np.array([1]).reshape(-1,1)\n",
        "# y_hat = loaded_model.fit([a1, b1], c1)\n",
        "\n",
        "# y_hat = loaded_model.predict([a1, b1])\n",
        "\n",
        "# print(y_hat)"
      ],
      "metadata": {
        "id": "JdQpD4oROYxt"
      },
      "execution_count": null,
      "outputs": []
    },
    {
      "cell_type": "code",
      "source": [
        "def predict(userID):\n",
        "\n",
        "  l = np.arange(1,dataset.num_movies)\n",
        "  base = list(set(l) - set(dataset.train[dataset.train['userId'] == userID]['movieId']))\n",
        "\n",
        "  # print(np.random.choice(base,100))\n",
        "\n",
        "  movies = np.random.choice(base, 100)\n",
        "  movies.reshape(-1,1)\n",
        "\n",
        "  u = np.full((100,1), userID, dtype=int)\n",
        "  predictions = loaded_model.predict([u,movies])\n",
        "\n",
        "  pred_movies = {}\n",
        "\n",
        "  for x in range(len(predictions)):\n",
        "    pred_movies[x] = predictions[x]\n",
        "\n",
        "  return(nlargest(10, pred_movies, key=pred_movies.get))"
      ],
      "metadata": {
        "id": "C-BcpgAoTleO"
      },
      "execution_count": 6,
      "outputs": []
    },
    {
      "cell_type": "code",
      "source": [
        "from heapq import nlargest\n",
        "import pandas as pd\n",
        "\n",
        "vec = predict(69)\n",
        "\n",
        "movies = pd.read_csv('data/movies.dat', sep = '::', names = ['movieId', 'name', 'genre'] ,engine='python', encoding='latin-1')\n",
        "\n",
        "vec = movies.iloc[vec]['name']\n",
        "\n",
        "print(vec)"
      ],
      "metadata": {
        "id": "Pz0YM4aiK9yE",
        "outputId": "d66d68c0-c9bf-424b-f405-19115caca32e",
        "colab": {
          "base_uri": "https://localhost:8080/"
        }
      },
      "execution_count": 16,
      "outputs": [
        {
          "output_type": "stream",
          "name": "stdout",
          "text": [
            "84                Angels and Insects (1995)\n",
            "86                 Dunston Checks In (1996)\n",
            "48             When Night Is Falling (1995)\n",
            "78                        Juror, The (1996)\n",
            "99                     Bottle Rocket (1996)\n",
            "4        Father of the Bride Part II (1995)\n",
            "17                        Four Rooms (1995)\n",
            "66                          Two Bits (1995)\n",
            "18    Ace Ventura: When Nature Calls (1995)\n",
            "98                         City Hall (1996)\n",
            "Name: name, dtype: object\n"
          ]
        }
      ]
    },
    {
      "cell_type": "code",
      "source": [
        ""
      ],
      "metadata": {
        "id": "mN9oEbK9LAHp"
      },
      "execution_count": null,
      "outputs": []
    }
  ],
  "metadata": {
    "kernelspec": {
      "display_name": "Python 3.10.4 64-bit",
      "language": "python",
      "name": "python3"
    },
    "language_info": {
      "codemirror_mode": {
        "name": "ipython",
        "version": 3
      },
      "file_extension": ".py",
      "mimetype": "text/x-python",
      "name": "python",
      "nbconvert_exporter": "python",
      "pygments_lexer": "ipython3",
      "version": "3.10.4"
    },
    "orig_nbformat": 4,
    "vscode": {
      "interpreter": {
        "hash": "916dbcbb3f70747c44a77c7bcd40155683ae19c65e1c03b4aa3499c5328201f1"
      }
    },
    "colab": {
      "name": "neuMF.ipynb",
      "provenance": []
    },
    "accelerator": "GPU",
    "gpuClass": "standard"
  },
  "nbformat": 4,
  "nbformat_minor": 0
}