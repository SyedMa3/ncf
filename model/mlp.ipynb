{
 "cells": [
  {
   "cell_type": "code",
   "execution_count": 9,
   "metadata": {},
   "outputs": [],
   "source": [
    "from keras.models import Model, Sequential\n",
    "from keras.layers import Embedding, Flatten, Input, Concatenate, Dropout, Dense, BatchNormalization\n",
    "from keras.optimizers import Adam\n",
    "from keras.utils.vis_utils import model_to_dot\n",
    "from IPython.display import SVG"
   ]
  },
  {
   "cell_type": "code",
   "execution_count": 17,
   "metadata": {},
   "outputs": [
    {
     "name": "stdout",
     "output_type": "stream",
     "text": [
      "Model: \"model_4\"\n",
      "__________________________________________________________________________________________________\n",
      " Layer (type)                   Output Shape         Param #     Connected to                     \n",
      "==================================================================================================\n",
      " item_input (InputLayer)        [(None, 1)]          0           []                               \n",
      "                                                                                                  \n",
      " user_input (InputLayer)        [(None, 1)]          0           []                               \n",
      "                                                                                                  \n",
      " item_embedding (Embedding)     (None, 1, 10)        10          ['item_input[0][0]']             \n",
      "                                                                                                  \n",
      " user_embedding (Embedding)     (None, 1, 10)        10          ['user_input[0][0]']             \n",
      "                                                                                                  \n",
      " flatten_17 (Flatten)           (None, 10)           0           ['item_embedding[0][0]']         \n",
      "                                                                                                  \n",
      " flatten_16 (Flatten)           (None, 10)           0           ['user_embedding[0][0]']         \n",
      "                                                                                                  \n",
      " concatenate_7 (Concatenate)    (None, 20)           0           ['flatten_17[0][0]',             \n",
      "                                                                  'flatten_16[0][0]']             \n",
      "                                                                                                  \n",
      " dropout_19 (Dropout)           (None, 20)           0           ['concatenate_7[0][0]']          \n",
      "                                                                                                  \n",
      " dense_13 (Dense)               (None, 100)          2100        ['dropout_19[0][0]']             \n",
      "                                                                                                  \n",
      " batch_normalization_12 (BatchN  (None, 100)         400         ['dense_13[0][0]']               \n",
      " ormalization)                                                                                    \n",
      "                                                                                                  \n",
      " dropout_20 (Dropout)           (None, 100)          0           ['batch_normalization_12[0][0]'] \n",
      "                                                                                                  \n",
      " dense_14 (Dense)               (None, 50)           5050        ['dropout_20[0][0]']             \n",
      "                                                                                                  \n",
      " batch_normalization_13 (BatchN  (None, 50)          200         ['dense_14[0][0]']               \n",
      " ormalization)                                                                                    \n",
      "                                                                                                  \n",
      " dropout_21 (Dropout)           (None, 50)           0           ['batch_normalization_13[0][0]'] \n",
      "                                                                                                  \n",
      " prediction (Dense)             (None, 10)           510         ['dropout_21[0][0]']             \n",
      "                                                                                                  \n",
      "==================================================================================================\n",
      "Total params: 8,280\n",
      "Trainable params: 7,980\n",
      "Non-trainable params: 300\n",
      "__________________________________________________________________________________________________\n"
     ]
    },
    {
     "name": "stderr",
     "output_type": "stream",
     "text": [
      "/home/syedma3/.local/lib/python3.10/site-packages/keras/optimizers/optimizer_v2/adam.py:110: UserWarning: The `lr` argument is deprecated, use `learning_rate` instead.\n",
      "  super(Adam, self).__init__(name, **kwargs)\n"
     ]
    }
   ],
   "source": [
    "# def get_model(num_users, num_items, latent_dim):\n",
    "\n",
    "user_input = Input(shape=(1,), dtype = 'int32', name = 'user_input')\n",
    "item_input = Input(shape=(1,), dtype = 'int32', name = 'item_input')\n",
    "\n",
    "mlp_user = Embedding(1, 10, name='user_embedding', input_length=1)(user_input)\n",
    "mlp_item = Embedding(1, 10, name='item_embedding', input_length=1)(item_input)\n",
    "\n",
    "mlp_user = Flatten()(mlp_user)\n",
    "mlp_item = Flatten()(mlp_item)\n",
    "\n",
    "concat = Concatenate()([mlp_item, mlp_user])\n",
    "concat = Dropout(0.2)(concat)\n",
    "\n",
    "x = Dense(100, activation='relu')(concat)\n",
    "x = BatchNormalization()(x)\n",
    "x = Dropout(0.2)(x)\n",
    "\n",
    "x = Dense(50, activation='relu')(x)\n",
    "x = BatchNormalization()(x)\n",
    "x = Dropout(0.2)(x)\n",
    "\n",
    "\n",
    "prediction = Dense(10, activation='relu', name = 'prediction')(x)\n",
    "\n",
    "model = Model([user_input, item_input], prediction)\n",
    "model.compile(optimizer=Adam(lr=0.01), loss='mean_absolute_error')\n",
    "model.summary()\n",
    "#   return model"
   ]
  },
  {
   "cell_type": "code",
   "execution_count": null,
   "metadata": {},
   "outputs": [],
   "source": []
  }
 ],
 "metadata": {
  "kernelspec": {
   "display_name": "Python 3.10.4 64-bit",
   "language": "python",
   "name": "python3"
  },
  "language_info": {
   "codemirror_mode": {
    "name": "ipython",
    "version": 3
   },
   "file_extension": ".py",
   "mimetype": "text/x-python",
   "name": "python",
   "nbconvert_exporter": "python",
   "pygments_lexer": "ipython3",
   "version": "3.10.4"
  },
  "orig_nbformat": 4,
  "vscode": {
   "interpreter": {
    "hash": "916dbcbb3f70747c44a77c7bcd40155683ae19c65e1c03b4aa3499c5328201f1"
   }
  }
 },
 "nbformat": 4,
 "nbformat_minor": 2
}
