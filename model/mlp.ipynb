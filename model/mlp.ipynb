{
  "cells": [
    {
      "cell_type": "code",
      "execution_count": 1,
      "metadata": {
        "id": "1CNmO5xDoe2y"
      },
      "outputs": [],
      "source": [
        "from keras.models import Model, Sequential\n",
        "from keras.layers import Embedding, Flatten, Input, Concatenate, Dropout, Dense, BatchNormalization\n",
        "from keras.utils.vis_utils import model_to_dot\n",
        "from IPython.display import SVG\n",
        "from tensorflow import keras\n",
        "import numpy as np"
      ]
    },
    {
      "cell_type": "code",
      "source": [
        "!git clone https://github.com/SyedMa3/ncf.git\n",
        "%cd ncf"
      ],
      "metadata": {
        "colab": {
          "base_uri": "https://localhost:8080/"
        },
        "id": "1BhqwlsUofx5",
        "outputId": "21ce0b09-84d2-4645-bc6b-cacad720c928"
      },
      "execution_count": 2,
      "outputs": [
        {
          "output_type": "stream",
          "name": "stdout",
          "text": [
            "Cloning into 'ncf'...\n",
            "remote: Enumerating objects: 86, done.\u001b[K\n",
            "remote: Counting objects: 100% (86/86), done.\u001b[K\n",
            "remote: Compressing objects: 100% (69/69), done.\u001b[K\n",
            "remote: Total 86 (delta 40), reused 43 (delta 16), pack-reused 0\u001b[K\n",
            "Unpacking objects: 100% (86/86), done.\n",
            "/content/ncf\n"
          ]
        }
      ]
    },
    {
      "cell_type": "code",
      "execution_count": 3,
      "metadata": {
        "id": "fVCrIQUWoe2z"
      },
      "outputs": [],
      "source": [
        "def get_model(num_users, num_items, latent_dim):\n",
        "\n",
        "  user_input = Input(shape=(1,), dtype = 'int32', name = 'user_input')\n",
        "  item_input = Input(shape=(1,), dtype = 'int32', name = 'item_input')\n",
        "\n",
        "  mlp_user = Embedding(num_users+1, 10, name='user_embedding')(user_input)\n",
        "  mlp_item = Embedding(num_items+1, 10, name='item_embedding')(item_input)\n",
        "\n",
        "  mlp_user = Flatten()(mlp_user)\n",
        "  mlp_item = Flatten()(mlp_item)\n",
        "\n",
        "  concat = Concatenate()([mlp_item, mlp_user])\n",
        "  concat = Dropout(0.2)(concat)\n",
        "\n",
        "  x = Dense(64, activation='relu')(concat)\n",
        "  x = BatchNormalization()(x)\n",
        "  x = Dropout(0.2)(x)\n",
        "\n",
        "  x = Dense(32, activation='relu')(x)\n",
        "  x = BatchNormalization()(x)\n",
        "  x = Dropout(0.2)(x)\n",
        "\n",
        "  prediction = Dense(1, activation='relu', name = 'prediction')(x)\n",
        "\n",
        "  model = Model([user_input, item_input], prediction)\n",
        "  model.compile(optimizer=keras.optimizers.Adam(learning_rate=0.01), loss='binary_crossentropy')\n",
        "  # model.summary()\n",
        "  return model"
      ]
    },
    {
      "cell_type": "code",
      "execution_count": 4,
      "metadata": {
        "colab": {
          "base_uri": "https://localhost:8080/"
        },
        "id": "El097s_Doe20",
        "outputId": "dd6d68bf-d152-41a2-92a5-abaff5c27b9b"
      },
      "outputs": [
        {
          "output_type": "stream",
          "name": "stderr",
          "text": [
            "/usr/local/lib/python3.7/dist-packages/pandas/core/indexing.py:1817: SettingWithCopyWarning: \n",
            "A value is trying to be set on a copy of a slice from a DataFrame.\n",
            "Try using .loc[row_indexer,col_indexer] = value instead\n",
            "\n",
            "See the caveats in the documentation: https://pandas.pydata.org/pandas-docs/stable/user_guide/indexing.html#returning-a-view-versus-a-copy\n",
            "  self._setitem_single_column(loc, value, pi)\n"
          ]
        }
      ],
      "source": [
        "import imp\n",
        "dataset = imp.new_module('dataset')\n",
        "exec(open(\"./dataset.py\").read(), dataset.__dict__)"
      ]
    },
    {
      "cell_type": "code",
      "source": [
        "a = np.array(dataset.users).reshape(-1,1)\n",
        "b = np.array(dataset.items).reshape(-1,1)\n",
        "c = np.array(dataset.labels).reshape(-1,1)"
      ],
      "metadata": {
        "id": "5IBQlxzcpanW"
      },
      "execution_count": 5,
      "outputs": []
    },
    {
      "cell_type": "code",
      "source": [
        "m = get_model(dataset.num_users,dataset.num_movies,10)\n",
        "m.summary()\n",
        "m.fit([a,b], c, batch_size=256, epochs=10)"
      ],
      "metadata": {
        "colab": {
          "base_uri": "https://localhost:8080/"
        },
        "id": "-EHg0jV4pcCk",
        "outputId": "3daacffc-265f-4fd3-b2cb-4535ae85a4c1"
      },
      "execution_count": 6,
      "outputs": [
        {
          "output_type": "stream",
          "name": "stdout",
          "text": [
            "Model: \"model\"\n",
            "__________________________________________________________________________________________________\n",
            " Layer (type)                   Output Shape         Param #     Connected to                     \n",
            "==================================================================================================\n",
            " item_input (InputLayer)        [(None, 1)]          0           []                               \n",
            "                                                                                                  \n",
            " user_input (InputLayer)        [(None, 1)]          0           []                               \n",
            "                                                                                                  \n",
            " item_embedding (Embedding)     (None, 1, 10)        1936100     ['item_input[0][0]']             \n",
            "                                                                                                  \n",
            " user_embedding (Embedding)     (None, 1, 10)        6110        ['user_input[0][0]']             \n",
            "                                                                                                  \n",
            " flatten_1 (Flatten)            (None, 10)           0           ['item_embedding[0][0]']         \n",
            "                                                                                                  \n",
            " flatten (Flatten)              (None, 10)           0           ['user_embedding[0][0]']         \n",
            "                                                                                                  \n",
            " concatenate (Concatenate)      (None, 20)           0           ['flatten_1[0][0]',              \n",
            "                                                                  'flatten[0][0]']                \n",
            "                                                                                                  \n",
            " dropout (Dropout)              (None, 20)           0           ['concatenate[0][0]']            \n",
            "                                                                                                  \n",
            " dense (Dense)                  (None, 64)           1344        ['dropout[0][0]']                \n",
            "                                                                                                  \n",
            " batch_normalization (BatchNorm  (None, 64)          256         ['dense[0][0]']                  \n",
            " alization)                                                                                       \n",
            "                                                                                                  \n",
            " dropout_1 (Dropout)            (None, 64)           0           ['batch_normalization[0][0]']    \n",
            "                                                                                                  \n",
            " dense_1 (Dense)                (None, 32)           2080        ['dropout_1[0][0]']              \n",
            "                                                                                                  \n",
            " batch_normalization_1 (BatchNo  (None, 32)          128         ['dense_1[0][0]']                \n",
            " rmalization)                                                                                     \n",
            "                                                                                                  \n",
            " dropout_2 (Dropout)            (None, 32)           0           ['batch_normalization_1[0][0]']  \n",
            "                                                                                                  \n",
            " prediction (Dense)             (None, 1)            33          ['dropout_2[0][0]']              \n",
            "                                                                                                  \n",
            "==================================================================================================\n",
            "Total params: 1,946,051\n",
            "Trainable params: 1,945,859\n",
            "Non-trainable params: 192\n",
            "__________________________________________________________________________________________________\n",
            "Epoch 1/10\n",
            "1958/1958 [==============================] - 15s 5ms/step - loss: 3.1154\n",
            "Epoch 2/10\n",
            "1958/1958 [==============================] - 10s 5ms/step - loss: 2.9851\n",
            "Epoch 3/10\n",
            "1958/1958 [==============================] - 11s 5ms/step - loss: 1.1338\n",
            "Epoch 4/10\n",
            "1958/1958 [==============================] - 11s 5ms/step - loss: 0.4288\n",
            "Epoch 5/10\n",
            "1958/1958 [==============================] - 11s 5ms/step - loss: 0.4455\n",
            "Epoch 6/10\n",
            "1958/1958 [==============================] - 10s 5ms/step - loss: 0.4243\n",
            "Epoch 7/10\n",
            "1958/1958 [==============================] - 11s 5ms/step - loss: 0.4106\n",
            "Epoch 8/10\n",
            "1958/1958 [==============================] - 11s 5ms/step - loss: 0.3793\n",
            "Epoch 9/10\n",
            "1958/1958 [==============================] - 10s 5ms/step - loss: 0.3642\n",
            "Epoch 10/10\n",
            "1958/1958 [==============================] - 10s 5ms/step - loss: 0.3854\n"
          ]
        },
        {
          "output_type": "execute_result",
          "data": {
            "text/plain": [
              "<keras.callbacks.History at 0x7f97bdbdd850>"
            ]
          },
          "metadata": {},
          "execution_count": 6
        }
      ]
    },
    {
      "cell_type": "code",
      "source": [
        ""
      ],
      "metadata": {
        "id": "P2sW-rnPsqAw"
      },
      "execution_count": null,
      "outputs": []
    }
  ],
  "metadata": {
    "kernelspec": {
      "display_name": "Python 3.10.4 64-bit",
      "language": "python",
      "name": "python3"
    },
    "language_info": {
      "codemirror_mode": {
        "name": "ipython",
        "version": 3
      },
      "file_extension": ".py",
      "mimetype": "text/x-python",
      "name": "python",
      "nbconvert_exporter": "python",
      "pygments_lexer": "ipython3",
      "version": "3.10.4"
    },
    "orig_nbformat": 4,
    "vscode": {
      "interpreter": {
        "hash": "916dbcbb3f70747c44a77c7bcd40155683ae19c65e1c03b4aa3499c5328201f1"
      }
    },
    "colab": {
      "name": "mlp.ipynb",
      "provenance": []
    },
    "accelerator": "GPU",
    "gpuClass": "standard"
  },
  "nbformat": 4,
  "nbformat_minor": 0
}