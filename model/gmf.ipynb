{
  "cells": [
    {
      "cell_type": "code",
      "execution_count": 8,
      "metadata": {
        "id": "k-qksXu2sSl_"
      },
      "outputs": [],
      "source": [
        "from keras.layers import Input, Embedding, Flatten, Dot, Dense\n",
        "from keras.models import Model\n",
        "from IPython.display import SVG\n",
        "import numpy as np"
      ]
    },
    {
      "cell_type": "code",
      "execution_count": 2,
      "metadata": {
        "colab": {
          "base_uri": "https://localhost:8080/"
        },
        "id": "lbBGnDJhYJEk",
        "outputId": "2b2a65a6-0c76-42c9-9c4f-2b7265470c50"
      },
      "outputs": [
        {
          "output_type": "stream",
          "name": "stdout",
          "text": [
            "fatal: destination path 'ncf' already exists and is not an empty directory.\n",
            "/content/ncf\n"
          ]
        }
      ],
      "source": [
        "!git clone https://github.com/SyedMa3/ncf.git\n",
        "%cd ncf"
      ]
    },
    {
      "cell_type": "code",
      "execution_count": 15,
      "metadata": {
        "id": "m9mlueb3eII2"
      },
      "outputs": [],
      "source": [
        "def get_model(num_users, num_items, latent_dim):\n",
        "\n",
        "  user_input = Input(shape=(1,), dtype = 'int32', name = 'user_input')\n",
        "  item_input = Input(shape=(1,), dtype = 'int32', name = 'item_input')\n",
        "\n",
        "  GMF_user_embedding = Embedding(num_users, latent_dim, name='user_embedding', input_length=1)\n",
        "  GMF_item_embedding = Embedding(num_items, latent_dim, name='item_embedding', input_length=1)\n",
        "\n",
        "  user_latent = Flatten()(GMF_user_embedding(user_input))\n",
        "  item_latent = Flatten()(GMF_item_embedding(item_input))\n",
        "\n",
        "  prediction = Dot(axes=1)([user_latent, item_latent])\n",
        "\n",
        "  model = Model([user_input, item_input], prediction)\n",
        "  model.compile('adam', 'binary_crossentropy')\n",
        "\n",
        "\n",
        "  return model"
      ]
    },
    {
      "cell_type": "code",
      "execution_count": 4,
      "metadata": {
        "colab": {
          "base_uri": "https://localhost:8080/"
        },
        "id": "CiAK_v7jp-Dj",
        "outputId": "39da18f3-ea37-497e-ebf7-2b5b1d9bf51a"
      },
      "outputs": [
        {
          "output_type": "stream",
          "name": "stdout",
          "text": [
            "[Errno 2] No such file or directory: 'drive/MyDrive/ncf'\n",
            "/content/ncf\n"
          ]
        },
        {
          "output_type": "stream",
          "name": "stderr",
          "text": [
            "/usr/local/lib/python3.7/dist-packages/pandas/core/indexing.py:1817: SettingWithCopyWarning: \n",
            "A value is trying to be set on a copy of a slice from a DataFrame.\n",
            "Try using .loc[row_indexer,col_indexer] = value instead\n",
            "\n",
            "See the caveats in the documentation: https://pandas.pydata.org/pandas-docs/stable/user_guide/indexing.html#returning-a-view-versus-a-copy\n",
            "  self._setitem_single_column(loc, value, pi)\n"
          ]
        }
      ],
      "source": [
        "import imp\n",
        "dataset = imp.new_module('dataset')\n",
        "%cd drive/MyDrive/ncf\n",
        "exec(open(\"./dataset.py\").read(), dataset.__dict__)"
      ]
    },
    {
      "cell_type": "code",
      "execution_count": 9,
      "metadata": {
        "id": "VK_KWxGWjq8a"
      },
      "outputs": [],
      "source": [
        "a = np.array(dataset.users).reshape(-1,1)\n",
        "b = np.array(dataset.items).reshape(-1,1)\n",
        "c = np.array(dataset.labels).reshape(-1,1)"
      ]
    },
    {
      "cell_type": "code",
      "execution_count": 16,
      "metadata": {
        "id": "TksNo_suD1Jn",
        "outputId": "b24d2083-d1b0-4644-da79-c86b4817230b",
        "colab": {
          "base_uri": "https://localhost:8080/"
        }
      },
      "outputs": [
        {
          "output_type": "stream",
          "name": "stdout",
          "text": [
            "Model: \"model_6\"\n",
            "__________________________________________________________________________________________________\n",
            " Layer (type)                   Output Shape         Param #     Connected to                     \n",
            "==================================================================================================\n",
            " user_input (InputLayer)        [(None, 1)]          0           []                               \n",
            "                                                                                                  \n",
            " item_input (InputLayer)        [(None, 1)]          0           []                               \n",
            "                                                                                                  \n",
            " user_embedding (Embedding)     (None, 1, 10)        6100        ['user_input[0][0]']             \n",
            "                                                                                                  \n",
            " item_embedding (Embedding)     (None, 1, 10)        97240       ['item_input[0][0]']             \n",
            "                                                                                                  \n",
            " flatten_12 (Flatten)           (None, 10)           0           ['user_embedding[0][0]']         \n",
            "                                                                                                  \n",
            " flatten_13 (Flatten)           (None, 10)           0           ['item_embedding[0][0]']         \n",
            "                                                                                                  \n",
            " dot_6 (Dot)                    (None, 1)            0           ['flatten_12[0][0]',             \n",
            "                                                                  'flatten_13[0][0]']             \n",
            "                                                                                                  \n",
            "==================================================================================================\n",
            "Total params: 103,340\n",
            "Trainable params: 103,340\n",
            "Non-trainable params: 0\n",
            "__________________________________________________________________________________________________\n",
            "Epoch 1/10\n",
            "15661/15661 [==============================] - 52s 3ms/step - loss: 2.0067\n",
            "Epoch 2/10\n",
            "15661/15661 [==============================] - 52s 3ms/step - loss: 1.2602\n",
            "Epoch 3/10\n",
            "15661/15661 [==============================] - 52s 3ms/step - loss: 1.1867\n",
            "Epoch 4/10\n",
            "15661/15661 [==============================] - 52s 3ms/step - loss: 1.1608\n",
            "Epoch 5/10\n",
            "15661/15661 [==============================] - 52s 3ms/step - loss: 1.1460\n",
            "Epoch 6/10\n",
            "15661/15661 [==============================] - 51s 3ms/step - loss: 1.1365\n",
            "Epoch 7/10\n",
            "15661/15661 [==============================] - 51s 3ms/step - loss: 1.1312\n",
            "Epoch 8/10\n",
            "15661/15661 [==============================] - 52s 3ms/step - loss: 1.1309\n",
            "Epoch 9/10\n",
            "15661/15661 [==============================] - 51s 3ms/step - loss: 1.1279\n",
            "Epoch 10/10\n",
            "15661/15661 [==============================] - 51s 3ms/step - loss: 1.1274\n"
          ]
        },
        {
          "output_type": "execute_result",
          "data": {
            "text/plain": [
              "<keras.callbacks.History at 0x7f8e601d4350>"
            ]
          },
          "metadata": {},
          "execution_count": 16
        }
      ],
      "source": [
        "m = get_model(dataset.num_users,dataset.num_movies,10)\n",
        "m.summary()\n",
        "m.fit([a,b], c, batch_size=32, epochs=10)"
      ]
    },
    {
      "cell_type": "code",
      "source": [
        ""
      ],
      "metadata": {
        "id": "Z0WeQXJVlEII"
      },
      "execution_count": null,
      "outputs": []
    }
  ],
  "metadata": {
    "accelerator": "GPU",
    "colab": {
      "collapsed_sections": [],
      "name": "gmf.ipynb",
      "provenance": []
    },
    "gpuClass": "standard",
    "kernelspec": {
      "display_name": "Python 3.10.4 64-bit",
      "language": "python",
      "name": "python3"
    },
    "language_info": {
      "codemirror_mode": {
        "name": "ipython",
        "version": 3
      },
      "file_extension": ".py",
      "mimetype": "text/x-python",
      "name": "python",
      "nbconvert_exporter": "python",
      "pygments_lexer": "ipython3",
      "version": "3.10.4"
    },
    "orig_nbformat": 4,
    "vscode": {
      "interpreter": {
        "hash": "916dbcbb3f70747c44a77c7bcd40155683ae19c65e1c03b4aa3499c5328201f1"
      }
    }
  },
  "nbformat": 4,
  "nbformat_minor": 0
}