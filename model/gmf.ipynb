{
  "cells": [
    {
      "cell_type": "code",
      "execution_count": 1,
      "metadata": {
        "id": "k-qksXu2sSl_"
      },
      "outputs": [],
      "source": [
        "from keras.layers import Input, Embedding, Flatten, merge, Dense\n",
        "from keras.models import Model\n",
        "from IPython.display import SVG"
      ]
    },
    {
      "cell_type": "code",
      "source": [
        "from google.colab import drive\n",
        "drive.mount('/content/drive')"
      ],
      "metadata": {
        "colab": {
          "base_uri": "https://localhost:8080/"
        },
        "id": "aCAFEsX6XqsV",
        "outputId": "665e0b2c-b7c5-496c-b029-36d142d693ee"
      },
      "execution_count": 2,
      "outputs": [
        {
          "output_type": "stream",
          "name": "stdout",
          "text": [
            "Mounted at /content/drive\n"
          ]
        }
      ]
    },
    {
      "cell_type": "code",
      "source": [
        "def get_model(num_users, num_items, latent_dim):\n",
        "\n",
        "  user_input = Input(shape=(1,), dtype = 'int32', name = 'user_input')\n",
        "  item_input = Input(shape=(1,), dtype = 'int32', name = 'item_input')\n",
        "\n",
        "  GMF_user_embedding = Embedding(num_users, latent_dim, name='user_embedding', input_length=1)\n",
        "  GMF_item_embedding = Embedding(num_items, latent_dim, name='item_embedding', input_length=1)\n",
        "\n",
        "  user_latent = Flatten()(GMF_user_embedding(user_input))\n",
        "  item_latent = Flatten()(GMF_item_embedding(item_input))\n",
        "\n",
        "  predict_vector = merge([user_latent, item_latent], mode='mul')\n",
        "\n",
        "  prediction = Dense(1, activation='sigmoid', name = 'prediction')(predict_vector)\n",
        "\n",
        "  model = Model(input = [user_input, item_input], output = prediction)\n",
        "\n",
        "  return model"
      ],
      "metadata": {
        "id": "m9mlueb3eII2"
      },
      "execution_count": 3,
      "outputs": []
    },
    {
      "cell_type": "code",
      "source": [
        "import imp\n",
        "helper = imp.new_module('dataset')\n",
        "%cd drive/MyDrive/ncf\n",
        "exec(open(\"./dataset.py\").read(), helper.__dict__)"
      ],
      "metadata": {
        "id": "CiAK_v7jp-Dj",
        "colab": {
          "base_uri": "https://localhost:8080/"
        },
        "outputId": "2537ef39-45f7-4420-a2a3-a97d302c1450"
      },
      "execution_count": 7,
      "outputs": [
        {
          "output_type": "stream",
          "name": "stdout",
          "text": [
            "[Errno 2] No such file or directory: 'drive/MyDrive/ncf'\n",
            "/content/drive/MyDrive/ncf\n"
          ]
        },
        {
          "output_type": "stream",
          "name": "stderr",
          "text": [
            "/usr/local/lib/python3.7/dist-packages/pandas/core/indexing.py:1817: SettingWithCopyWarning: \n",
            "A value is trying to be set on a copy of a slice from a DataFrame.\n",
            "Try using .loc[row_indexer,col_indexer] = value instead\n",
            "\n",
            "See the caveats in the documentation: https://pandas.pydata.org/pandas-docs/stable/user_guide/indexing.html#returning-a-view-versus-a-copy\n",
            "  self._setitem_single_column(loc, value, pi)\n"
          ]
        }
      ]
    },
    {
      "cell_type": "code",
      "source": [
        "!git fetch\n",
        "!git pull"
      ],
      "metadata": {
        "colab": {
          "base_uri": "https://localhost:8080/"
        },
        "id": "lbBGnDJhYJEk",
        "outputId": "1d7c35aa-af22-47d8-d28c-e362510e13e1"
      },
      "execution_count": 6,
      "outputs": [
        {
          "output_type": "stream",
          "name": "stdout",
          "text": [
            "remote: Enumerating objects: 5, done.\u001b[K\n",
            "remote: Counting objects:  20% (1/5)\u001b[K\rremote: Counting objects:  40% (2/5)\u001b[K\rremote: Counting objects:  60% (3/5)\u001b[K\rremote: Counting objects:  80% (4/5)\u001b[K\rremote: Counting objects: 100% (5/5)\u001b[K\rremote: Counting objects: 100% (5/5), done.\u001b[K\n",
            "remote: Compressing objects: 100% (1/1)\u001b[K\rremote: Compressing objects: 100% (1/1), done.\u001b[K\n",
            "remote: Total 3 (delta 2), reused 3 (delta 2), pack-reused 0\u001b[K\n",
            "Unpacking objects: 100% (3/3), done.\n",
            "From https://github.com/SyedMa3/ncf\n",
            "   cb170a4..74becfc  main       -> origin/main\n",
            "Updating cb170a4..74becfc\n",
            "Fast-forward\n",
            " dataset.py | 4 \u001b[32m+++\u001b[m\u001b[31m-\u001b[m\n",
            " 1 file changed, 3 insertions(+), 1 deletion(-)\n"
          ]
        }
      ]
    },
    {
      "cell_type": "code",
      "source": [
        "import tensorflow as tf\n",
        "d = tf.data.Dataset.from_tensor_slices(tuple(zip(helper.dset)))"
      ],
      "metadata": {
        "id": "8U5pJ-nvYmg0"
      },
      "execution_count": 14,
      "outputs": []
    },
    {
      "cell_type": "code",
      "source": [
        ""
      ],
      "metadata": {
        "id": "TksNo_suD1Jn"
      },
      "execution_count": null,
      "outputs": []
    }
  ],
  "metadata": {
    "language_info": {
      "name": "python"
    },
    "orig_nbformat": 4,
    "colab": {
      "name": "gmf.ipynb",
      "provenance": [],
      "collapsed_sections": []
    },
    "kernelspec": {
      "name": "python3",
      "display_name": "Python 3"
    },
    "gpuClass": "standard",
    "accelerator": "GPU"
  },
  "nbformat": 4,
  "nbformat_minor": 0
}