{
  "cells": [
    {
      "cell_type": "code",
      "execution_count": null,
      "metadata": {
        "id": "k-qksXu2sSl_"
      },
      "outputs": [],
      "source": [
        "from keras.layers import Input, Embedding, Flatten, merge, Dense\n",
        "from keras.models import Model"
      ]
    },
    {
      "cell_type": "code",
      "source": [
        "def get_model(num_users, num_items, latent_dim):\n",
        "\n",
        "  user_input = Input(shape=(1,), dtype = 'int32', name = 'user_input')\n",
        "  item_input = Input(shape=(1,), dtype = 'int32', name = 'item_input')\n",
        "\n",
        "  GMF_user_embedding = Embedding(num_users, latent_dim, name='user_embedding', input_length=1)\n",
        "  GMF_item_embedding = Embedding(num_items, latent_dim, name='item_embedding', input_length=1)\n",
        "\n",
        "  user_latent = Flatten()(GMF_user_embedding(user_input))\n",
        "  item_latent = Flatten()(GMF_item_embedding(item_input))\n",
        "\n",
        "  predict_vector = merge([user_latent, item_latent], mode='mul')\n",
        "\n",
        "  prediction = Dense(1, activation='sigmoid', name = 'prediction')(predict_vector)\n",
        "\n",
        "  model = Model(input = [user_input, item_input], output = prediction)\n",
        "\n",
        "  return model"
      ],
      "metadata": {
        "id": "m9mlueb3eII2"
      },
      "execution_count": null,
      "outputs": []
    }
  ],
  "metadata": {
    "language_info": {
      "name": "python"
    },
    "orig_nbformat": 4,
    "colab": {
      "name": "gmf.ipynb",
      "provenance": []
    },
    "kernelspec": {
      "name": "python3",
      "display_name": "Python 3"
    },
    "gpuClass": "standard",
    "accelerator": "GPU"
  },
  "nbformat": 4,
  "nbformat_minor": 0
}