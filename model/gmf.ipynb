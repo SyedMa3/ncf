{
  "cells": [
    {
      "cell_type": "code",
      "execution_count": 3,
      "metadata": {
        "id": "k-qksXu2sSl_"
      },
      "outputs": [],
      "source": [
        "from keras.layers import Input, Embedding, Flatten, Dot, Dense\n",
        "from keras.models import Model\n",
        "from IPython.display import SVG"
      ]
    },
    {
      "cell_type": "code",
      "execution_count": 2,
      "metadata": {
        "colab": {
          "base_uri": "https://localhost:8080/"
        },
        "id": "aCAFEsX6XqsV",
        "outputId": "665e0b2c-b7c5-496c-b029-36d142d693ee"
      },
      "outputs": [
        {
          "name": "stdout",
          "output_type": "stream",
          "text": [
            "Mounted at /content/drive\n"
          ]
        }
      ],
      "source": [
        "from google.colab import drive\n",
        "drive.mount('/content/drive')"
      ]
    },
    {
      "cell_type": "code",
      "execution_count": 6,
      "metadata": {
        "colab": {
          "base_uri": "https://localhost:8080/"
        },
        "id": "lbBGnDJhYJEk",
        "outputId": "1d7c35aa-af22-47d8-d28c-e362510e13e1"
      },
      "outputs": [
        {
          "name": "stdout",
          "output_type": "stream",
          "text": [
            "remote: Enumerating objects: 5, done.\u001b[K\n",
            "remote: Counting objects:  20% (1/5)\u001b[K\rremote: Counting objects:  40% (2/5)\u001b[K\rremote: Counting objects:  60% (3/5)\u001b[K\rremote: Counting objects:  80% (4/5)\u001b[K\rremote: Counting objects: 100% (5/5)\u001b[K\rremote: Counting objects: 100% (5/5), done.\u001b[K\n",
            "remote: Compressing objects: 100% (1/1)\u001b[K\rremote: Compressing objects: 100% (1/1), done.\u001b[K\n",
            "remote: Total 3 (delta 2), reused 3 (delta 2), pack-reused 0\u001b[K\n",
            "Unpacking objects: 100% (3/3), done.\n",
            "From https://github.com/SyedMa3/ncf\n",
            "   cb170a4..74becfc  main       -> origin/main\n",
            "Updating cb170a4..74becfc\n",
            "Fast-forward\n",
            " dataset.py | 4 \u001b[32m+++\u001b[m\u001b[31m-\u001b[m\n",
            " 1 file changed, 3 insertions(+), 1 deletion(-)\n"
          ]
        }
      ],
      "source": [
        "!git fetch\n",
        "!git pull"
      ]
    },
    {
      "cell_type": "code",
      "execution_count": 7,
      "metadata": {
        "id": "m9mlueb3eII2"
      },
      "outputs": [
        {
          "name": "stdout",
          "output_type": "stream",
          "text": [
            "Model: \"model_1\"\n",
            "__________________________________________________________________________________________________\n",
            " Layer (type)                   Output Shape         Param #     Connected to                     \n",
            "==================================================================================================\n",
            " user_input (InputLayer)        [(None, 1)]          0           []                               \n",
            "                                                                                                  \n",
            " item_input (InputLayer)        [(None, 1)]          0           []                               \n",
            "                                                                                                  \n",
            " user_embedding (Embedding)     (None, 1, 10)        10          ['user_input[0][0]']             \n",
            "                                                                                                  \n",
            " item_embedding (Embedding)     (None, 1, 10)        10          ['item_input[0][0]']             \n",
            "                                                                                                  \n",
            " flatten_6 (Flatten)            (None, 10)           0           ['user_embedding[0][0]']         \n",
            "                                                                                                  \n",
            " flatten_7 (Flatten)            (None, 10)           0           ['item_embedding[0][0]']         \n",
            "                                                                                                  \n",
            " dot_2 (Dot)                    (None, 1)            0           ['flatten_6[0][0]',              \n",
            "                                                                  'flatten_7[0][0]']              \n",
            "                                                                                                  \n",
            "==================================================================================================\n",
            "Total params: 20\n",
            "Trainable params: 20\n",
            "Non-trainable params: 0\n",
            "__________________________________________________________________________________________________\n"
          ]
        }
      ],
      "source": [
        "def get_model(num_users, num_items, latent_dim):\n",
        "\n",
        "  user_input = Input(shape=(1,), dtype = 'int32', name = 'user_input')\n",
        "  item_input = Input(shape=(1,), dtype = 'int32', name = 'item_input')\n",
        "\n",
        "  GMF_user_embedding = Embedding(num_users, latent_dim, name='user_embedding', input_length=1)\n",
        "  GMF_item_embedding = Embedding(num_items, latent_dim, name='item_embedding', input_length=1)\n",
        "\n",
        "  user_latent = Flatten()(GMF_user_embedding(user_input))\n",
        "  item_latent = Flatten()(GMF_item_embedding(item_input))\n",
        "\n",
        "  prediction = Dot(axes=1)([user_latent, item_latent])\n",
        "\n",
        "  model = Model([user_input, item_input], prediction)\n",
        "  model.compile('adam', 'mean_squared_error')\n",
        "\n",
        "\n",
        "  return model"
      ]
    },
    {
      "cell_type": "code",
      "execution_count": 7,
      "metadata": {
        "colab": {
          "base_uri": "https://localhost:8080/"
        },
        "id": "CiAK_v7jp-Dj",
        "outputId": "2537ef39-45f7-4420-a2a3-a97d302c1450"
      },
      "outputs": [
        {
          "name": "stdout",
          "output_type": "stream",
          "text": [
            "[Errno 2] No such file or directory: 'drive/MyDrive/ncf'\n",
            "/content/drive/MyDrive/ncf\n"
          ]
        },
        {
          "name": "stderr",
          "output_type": "stream",
          "text": [
            "/usr/local/lib/python3.7/dist-packages/pandas/core/indexing.py:1817: SettingWithCopyWarning: \n",
            "A value is trying to be set on a copy of a slice from a DataFrame.\n",
            "Try using .loc[row_indexer,col_indexer] = value instead\n",
            "\n",
            "See the caveats in the documentation: https://pandas.pydata.org/pandas-docs/stable/user_guide/indexing.html#returning-a-view-versus-a-copy\n",
            "  self._setitem_single_column(loc, value, pi)\n"
          ]
        }
      ],
      "source": [
        "import imp\n",
        "helper = imp.new_module('dataset')\n",
        "%cd drive/MyDrive/ncf\n",
        "exec(open(\"./dataset.py\").read(), helper.__dict__)"
      ]
    },
    {
      "cell_type": "code",
      "execution_count": 14,
      "metadata": {
        "id": "8U5pJ-nvYmg0"
      },
      "outputs": [],
      "source": [
        "import tensorflow as tf\n",
        "d = tf.data.Dataset.from_tensor_slices(tuple(zip(helper.dset)))"
      ]
    },
    {
      "cell_type": "code",
      "execution_count": 8,
      "metadata": {
        "id": "TksNo_suD1Jn"
      },
      "outputs": [
        {
          "name": "stdout",
          "output_type": "stream",
          "text": [
            "Model: \"model_2\"\n",
            "__________________________________________________________________________________________________\n",
            " Layer (type)                   Output Shape         Param #     Connected to                     \n",
            "==================================================================================================\n",
            " user_input (InputLayer)        [(None, 1)]          0           []                               \n",
            "                                                                                                  \n",
            " item_input (InputLayer)        [(None, 1)]          0           []                               \n",
            "                                                                                                  \n",
            " user_embedding (Embedding)     (None, 1, 10)        10          ['user_input[0][0]']             \n",
            "                                                                                                  \n",
            " item_embedding (Embedding)     (None, 1, 10)        10          ['item_input[0][0]']             \n",
            "                                                                                                  \n",
            " flatten_8 (Flatten)            (None, 10)           0           ['user_embedding[0][0]']         \n",
            "                                                                                                  \n",
            " flatten_9 (Flatten)            (None, 10)           0           ['item_embedding[0][0]']         \n",
            "                                                                                                  \n",
            " dot_3 (Dot)                    (None, 1)            0           ['flatten_8[0][0]',              \n",
            "                                                                  'flatten_9[0][0]']              \n",
            "                                                                                                  \n",
            "==================================================================================================\n",
            "Total params: 20\n",
            "Trainable params: 20\n",
            "Non-trainable params: 0\n",
            "__________________________________________________________________________________________________\n"
          ]
        }
      ],
      "source": [
        "m = get_model(1,1,10)\n",
        "m.summary()\n",
        "m.fit()"
      ]
    },
    {
      "cell_type": "code",
      "execution_count": null,
      "metadata": {},
      "outputs": [],
      "source": []
    }
  ],
  "metadata": {
    "accelerator": "GPU",
    "colab": {
      "collapsed_sections": [],
      "name": "gmf.ipynb",
      "provenance": []
    },
    "gpuClass": "standard",
    "kernelspec": {
      "display_name": "Python 3.10.4 64-bit",
      "language": "python",
      "name": "python3"
    },
    "language_info": {
      "codemirror_mode": {
        "name": "ipython",
        "version": 3
      },
      "file_extension": ".py",
      "mimetype": "text/x-python",
      "name": "python",
      "nbconvert_exporter": "python",
      "pygments_lexer": "ipython3",
      "version": "3.10.4"
    },
    "orig_nbformat": 4,
    "vscode": {
      "interpreter": {
        "hash": "916dbcbb3f70747c44a77c7bcd40155683ae19c65e1c03b4aa3499c5328201f1"
      }
    }
  },
  "nbformat": 4,
  "nbformat_minor": 0
}
